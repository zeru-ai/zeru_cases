{
 "cells": [
  {
   "cell_type": "code",
   "execution_count": 1,
   "metadata": {},
   "outputs": [],
   "source": [
    "%matplotlib inline\n",
    "import pandas as pd\n",
    "import numpy as np"
   ]
  },
  {
   "cell_type": "code",
   "execution_count": 2,
   "metadata": {},
   "outputs": [
    {
     "name": "stdout",
     "output_type": "stream",
     "text": [
      "7195\n"
     ]
    }
   ],
   "source": [
    "#check the file exists\n",
    "import MyUtil\n",
    "stockfolder=\"/home/wode-user/dataset/Stocks\"\n",
    "files = MyUtil.loadAllSubFolders(stockfolder)\n",
    "print(len(files))"
   ]
  },
  {
   "cell_type": "code",
   "execution_count": 3,
   "metadata": {},
   "outputs": [],
   "source": [
    "#load SP 500 stocks\n",
    "\n",
    "dat= pd.read_csv(\"data/sp500.csv\")\n",
    "symbols= set(dat['Symbol'].tolist())"
   ]
  },
  {
   "cell_type": "code",
   "execution_count": 4,
   "metadata": {},
   "outputs": [],
   "source": [
    "def getSymbol(filename):\n",
    "    return filename.split('/')[-1].split('.')[0].upper()\n",
    "\n",
    "def parse_returns(fname):\n",
    "    dat1= pd.read_csv(fname)\n",
    "    dat1=dat1.tail(501)\n",
    "    dat1=dat1.set_index(pd.DatetimeIndex(dat1['Date']))\n",
    "    dat1['logClose']=dat1['Close'].apply(np.log)\n",
    "    dat1['return'] = dat1['logClose']-dat1['logClose'].shift(1)\n",
    "    dat1.drop(dat1.index[:1], inplace=True)\n",
    "    dat2=dat1['return']\n",
    "    return dat2"
   ]
  },
  {
   "cell_type": "code",
   "execution_count": 15,
   "metadata": {},
   "outputs": [],
   "source": [
    "data=None\n",
    "cnt=0\n",
    "for f in files:\n",
    "    sym= getSymbol(f)\n",
    "    if sym.upper() in symbols:\n",
    "        if cnt==0:\n",
    "            data=parse_returns(f).to_frame()\n",
    "        else:\n",
    "            data=pd.concat([data, parse_returns(f)], axis=1)\n",
    "            \n",
    "        data.columns.values[-1]=sym\n",
    "        cnt+=1\n",
    "backup=data\n",
    "data=data.tail(500)\n",
    "symbols=data.columns.values\n",
    "data=data.fillna(0)\n",
    "data=data.T"
   ]
  },
  {
   "cell_type": "code",
   "execution_count": 18,
   "metadata": {},
   "outputs": [],
   "source": [
    "\n",
    "covv=np.corrcoef(data)\n",
    "covdf = pd.DataFrame(covv)\n",
    "covdf=covdf.rename({i:v for i,v in enumerate(symbols)}, axis=1)\n",
    "covdf[\"Symbol\"]=symbols\n",
    "covdf=covdf.set_index(\"Symbol\")"
   ]
  },
  {
   "cell_type": "code",
   "execution_count": 19,
   "metadata": {},
   "outputs": [],
   "source": [
    "covdf.to_csv(\"data/sp500_cov.csv\")"
   ]
  }
 ],
 "metadata": {
  "kernelspec": {
   "display_name": "Python 3",
   "language": "python",
   "name": "python3"
  },
  "language_info": {
   "codemirror_mode": {
    "name": "ipython",
    "version": 3
   },
   "file_extension": ".py",
   "mimetype": "text/x-python",
   "name": "python",
   "nbconvert_exporter": "python",
   "pygments_lexer": "ipython3",
   "version": "3.6.3"
  }
 },
 "nbformat": 4,
 "nbformat_minor": 2
}
